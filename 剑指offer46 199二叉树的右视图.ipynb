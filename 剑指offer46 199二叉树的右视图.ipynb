{
 "cells": [
  {
   "cell_type": "markdown",
   "metadata": {},
   "source": [
    "# 方法一：深度优先搜索"
   ]
  },
  {
   "cell_type": "markdown",
   "metadata": {},
   "source": [
    "我们对树进行深度优先搜索，在搜索过程中，我们总是先访问右子树。那么对于每一层来说，我们在这层见到的第一个结点一定是最右边的结点。"
   ]
  },
  {
   "cell_type": "code",
   "execution_count": 2,
   "metadata": {},
   "outputs": [],
   "source": [
    "class TreeNode(object):\n",
    "    def __init__(self, x):\n",
    "        self.val = x\n",
    "        self.left = None\n",
    "        self.right = None"
   ]
  },
  {
   "cell_type": "code",
   "execution_count": 8,
   "metadata": {},
   "outputs": [],
   "source": [
    "class Solution(object):\n",
    "    def rightSideView(self, root):\n",
    "        rightmost_value_at_depth = dict() # 深度为索引，存放节点的值\n",
    "        max_depth = -1\n",
    "\n",
    "        stack = [(root, 0)]\n",
    "        while stack:\n",
    "            node, depth = stack.pop()\n",
    "\n",
    "            if node is not None:\n",
    "                # 维护二叉树的最大深度\n",
    "                max_depth = max(max_depth, depth)\n",
    "\n",
    "                # 如果不存在对应深度的节点我们才插入\n",
    "                rightmost_value_at_depth.setdefault(depth, node.val)\n",
    "\n",
    "                stack.append((node.left, depth + 1))\n",
    "                stack.append((node.right, depth + 1))\n",
    "\n",
    "        return [rightmost_value_at_depth[depth] for depth in range(max_depth + 1)]"
   ]
  },
  {
   "cell_type": "markdown",
   "metadata": {},
   "source": [
    "# 方法二：广度优先搜索"
   ]
  },
  {
   "cell_type": "markdown",
   "metadata": {},
   "source": [
    "思路  \n",
    "我们可以对二叉树进行层次遍历，那么对于每层来说，最右边的结点一定是最后被遍历到的。二叉树的层次遍历可以用广度优先搜索实现。"
   ]
  },
  {
   "cell_type": "code",
   "execution_count": 10,
   "metadata": {},
   "outputs": [],
   "source": [
    "class Solution:\n",
    "    def rightSideView(self, root):\n",
    "        rightmost_value_at_depth = dict() # 深度为索引，存放节点的值\n",
    "        max_depth = -1\n",
    "\n",
    "        queue = deque([(root, 0)])\n",
    "        while queue:\n",
    "            node, depth = queue.popleft()\n",
    "\n",
    "            if node is not None:\n",
    "                # 维护二叉树的最大深度\n",
    "                max_depth = max(max_depth, depth)\n",
    "\n",
    "                # 由于每一层最后一个访问到的节点才是我们要的答案，因此不断更新对应深度的信息即可\n",
    "                rightmost_value_at_depth[depth] = node.val\n",
    "\n",
    "                queue.append((node.left, depth + 1))\n",
    "                queue.append((node.right, depth + 1))\n",
    "\n",
    "        return [rightmost_value_at_depth[depth] for depth in range(max_depth + 1)]"
   ]
  },
  {
   "cell_type": "code",
   "execution_count": 5,
   "metadata": {},
   "outputs": [],
   "source": [
    "from heapq import *\n",
    "a = []\n",
    "heappush(a,1)"
   ]
  },
  {
   "cell_type": "code",
   "execution_count": 7,
   "metadata": {},
   "outputs": [
    {
     "data": {
      "text/plain": [
       "1"
      ]
     },
     "execution_count": 7,
     "metadata": {},
     "output_type": "execute_result"
    }
   ],
   "source": [
    "heappop(a)"
   ]
  },
  {
   "cell_type": "code",
   "execution_count": 8,
   "metadata": {},
   "outputs": [
    {
     "data": {
      "text/plain": [
       "list"
      ]
     },
     "execution_count": 8,
     "metadata": {},
     "output_type": "execute_result"
    }
   ],
   "source": [
    "type(a)"
   ]
  },
  {
   "cell_type": "code",
   "execution_count": 9,
   "metadata": {},
   "outputs": [
    {
     "data": {
      "text/plain": [
       "[]"
      ]
     },
     "execution_count": 9,
     "metadata": {},
     "output_type": "execute_result"
    }
   ],
   "source": [
    "a"
   ]
  },
  {
   "cell_type": "code",
   "execution_count": 3,
   "metadata": {},
   "outputs": [
    {
     "data": {
      "text/plain": [
       "2"
      ]
     },
     "execution_count": 3,
     "metadata": {},
     "output_type": "execute_result"
    }
   ],
   "source": [
    "a = [True,False,True]"
   ]
  }
 ],
 "metadata": {
  "kernelspec": {
   "display_name": "Python 3",
   "language": "python",
   "name": "python3"
  },
  "language_info": {
   "codemirror_mode": {
    "name": "ipython",
    "version": 3
   },
   "file_extension": ".py",
   "mimetype": "text/x-python",
   "name": "python",
   "nbconvert_exporter": "python",
   "pygments_lexer": "ipython3",
   "version": "3.7.6"
  }
 },
 "nbformat": 4,
 "nbformat_minor": 4
}
