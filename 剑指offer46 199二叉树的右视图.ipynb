{
 "cells": [
  {
   "cell_type": "markdown",
   "metadata": {},
   "source": [
    "# 方法一：深度优先搜索"
   ]
  },
  {
   "cell_type": "markdown",
   "metadata": {},
   "source": [
    "我们对树进行深度优先搜索，在搜索过程中，我们总是先访问右子树。那么对于每一层来说，我们在这层见到的第一个结点一定是最右边的结点。"
   ]
  },
  {
   "cell_type": "code",
   "execution_count": 2,
   "metadata": {},
   "outputs": [],
   "source": [
    "class TreeNode(object):\n",
    "    def __init__(self, x):\n",
    "        self.val = x\n",
    "        self.left = None\n",
    "        self.right = None"
   ]
  },
  {
   "cell_type": "code",
   "execution_count": 8,
   "metadata": {},
   "outputs": [],
   "source": [
    "class Solution(object):\n",
    "    def rightSideView(self, root):\n",
    "        rightmost_value_at_depth = dict() # 深度为索引，存放节点的值\n",
    "        max_depth = -1\n",
    "\n",
    "        stack = [(root, 0)]\n",
    "        while stack:\n",
    "            node, depth = stack.pop()\n",
    "\n",
    "            if node is not None:\n",
    "                # 维护二叉树的最大深度\n",
    "                max_depth = max(max_depth, depth)\n",
    "\n",
    "                # 如果不存在对应深度的节点我们才插入\n",
    "                rightmost_value_at_depth.setdefault(depth, node.val)\n",
    "\n",
    "                stack.append((node.left, depth + 1))\n",
    "                stack.append((node.right, depth + 1))\n",
    "\n",
    "        return [rightmost_value_at_depth[depth] for depth in range(max_depth + 1)]"
   ]
  },
  {
   "cell_type": "markdown",
   "metadata": {},
   "source": [
    "# 方法二：广度优先搜索"
   ]
  },
  {
   "cell_type": "markdown",
   "metadata": {},
   "source": [
    "思路  \n",
    "我们可以对二叉树进行层次遍历，那么对于每层来说，最右边的结点一定是最后被遍历到的。二叉树的层次遍历可以用广度优先搜索实现。"
   ]
  },
  {
   "cell_type": "code",
   "execution_count": 10,
   "metadata": {},
   "outputs": [],
   "source": [
    "class Solution:\n",
    "    def rightSideView(self, root):\n",
    "        rightmost_value_at_depth = dict() # 深度为索引，存放节点的值\n",
    "        max_depth = -1\n",
    "\n",
    "        queue = deque([(root, 0)])\n",
    "        while queue:\n",
    "            node, depth = queue.popleft()\n",
    "\n",
    "            if node is not None:\n",
    "                # 维护二叉树的最大深度\n",
    "                max_depth = max(max_depth, depth)\n",
    "\n",
    "                # 由于每一层最后一个访问到的节点才是我们要的答案，因此不断更新对应深度的信息即可\n",
    "                rightmost_value_at_depth[depth] = node.val\n",
    "\n",
    "                queue.append((node.left, depth + 1))\n",
    "                queue.append((node.right, depth + 1))\n",
    "\n",
    "        return [rightmost_value_at_depth[depth] for depth in range(max_depth + 1)]"
   ]
  },
  {
   "cell_type": "code",
   "execution_count": 1,
   "metadata": {},
   "outputs": [],
   "source": [
    "a = [3,30,34]"
   ]
  },
  {
   "cell_type": "code",
   "execution_count": 3,
   "metadata": {},
   "outputs": [],
   "source": [
    "a = '3'\n",
    "b = '30'"
   ]
  },
  {
   "cell_type": "code",
   "execution_count": 1,
   "metadata": {},
   "outputs": [
    {
     "name": "stdout",
     "output_type": "stream",
     "text": [
      "0b100001\n"
     ]
    }
   ],
   "source": [
    "num = 33\n",
    "print(bin(num))"
   ]
  },
  {
   "cell_type": "code",
   "execution_count": 5,
   "metadata": {},
   "outputs": [
    {
     "data": {
      "text/plain": [
       "'0b1'"
      ]
     },
     "execution_count": 5,
     "metadata": {},
     "output_type": "execute_result"
    }
   ],
   "source": [
    "bin(33 & 1)"
   ]
  },
  {
   "cell_type": "code",
   "execution_count": 6,
   "metadata": {},
   "outputs": [
    {
     "data": {
      "text/plain": [
       "0"
      ]
     },
     "execution_count": 6,
     "metadata": {},
     "output_type": "execute_result"
    }
   ],
   "source": [
    "res = 0\n",
    "res <<= 1\n",
    "res"
   ]
  },
  {
   "cell_type": "code",
   "execution_count": 12,
   "metadata": {},
   "outputs": [
    {
     "data": {
      "text/plain": [
       "'0b100001'"
      ]
     },
     "execution_count": 12,
     "metadata": {},
     "output_type": "execute_result"
    }
   ],
   "source": [
    "bin(33)"
   ]
  },
  {
   "cell_type": "code",
   "execution_count": 16,
   "metadata": {},
   "outputs": [
    {
     "data": {
      "text/plain": [
       "'-0b11111111111111111111111111100000'"
      ]
     },
     "execution_count": 16,
     "metadata": {},
     "output_type": "execute_result"
    }
   ],
   "source": [
    "num = -33\n",
    "bin(num ^ 0xffffffff)"
   ]
  },
  {
   "cell_type": "code",
   "execution_count": 17,
   "metadata": {},
   "outputs": [
    {
     "data": {
      "text/plain": [
       "'0b11111111111111111111111111011111'"
      ]
     },
     "execution_count": 17,
     "metadata": {},
     "output_type": "execute_result"
    }
   ],
   "source": [
    "bin(~(num ^ 0xffffffff))"
   ]
  },
  {
   "cell_type": "code",
   "execution_count": 7,
   "metadata": {
    "scrolled": false
   },
   "outputs": [
    {
     "name": "stdout",
     "output_type": "stream",
     "text": [
      "0 0b0\n",
      "0 0b0\n",
      "0 0b0\n",
      "0 0b0\n",
      "0 0b0\n",
      "0 0b0\n",
      "0 0b0\n",
      "0 0b0\n",
      "0 0b0\n",
      "0 0b0\n",
      "0 0b0\n",
      "0 0b0\n",
      "0 0b0\n",
      "0 0b0\n",
      "0 0b0\n",
      "0 0b0\n",
      "0 0b0\n",
      "0 0b0\n",
      "0 0b0\n",
      "0 0b0\n",
      "0 0b0\n",
      "0 0b0\n",
      "0 0b0\n",
      "0 0b0\n",
      "0 0b0\n",
      "0 0b0\n",
      "0 0b0\n",
      "2 0b10\n",
      "4 0b100\n",
      "8 0b1000\n",
      "16 0b10000\n",
      "32 0b100000\n"
     ]
    }
   ],
   "source": [
    "res, m = 0, 3\n",
    "for i in range(32):\n",
    "    res <<= 1\n",
    "    print(res,bin(res))\n",
    "    res |= counts[31 - i] % m"
   ]
  },
  {
   "cell_type": "code",
   "execution_count": 2,
   "metadata": {
    "scrolled": true
   },
   "outputs": [
    {
     "name": "stdout",
     "output_type": "stream",
     "text": [
      "16 0b10000\n",
      "8 0b1000\n",
      "4 0b100\n",
      "2 0b10\n",
      "1 0b1\n",
      "0 0b0\n",
      "0 0b0\n",
      "0 0b0\n",
      "0 0b0\n",
      "0 0b0\n",
      "0 0b0\n",
      "0 0b0\n",
      "0 0b0\n",
      "0 0b0\n",
      "0 0b0\n",
      "0 0b0\n",
      "0 0b0\n",
      "0 0b0\n",
      "0 0b0\n",
      "0 0b0\n",
      "0 0b0\n",
      "0 0b0\n",
      "0 0b0\n",
      "0 0b0\n",
      "0 0b0\n",
      "0 0b0\n",
      "0 0b0\n",
      "0 0b0\n",
      "0 0b0\n",
      "0 0b0\n",
      "0 0b0\n",
      "0 0b0\n",
      "[1, 0, 0, 0, 0, 1, 0, 0, 0, 0, 0, 0, 0, 0, 0, 0, 0, 0, 0, 0, 0, 0, 0, 0, 0, 0, 0, 0, 0, 0, 0, 0]\n"
     ]
    }
   ],
   "source": [
    "counts = [0] * 32\n",
    "for j in range(32):\n",
    "    counts[j] += num & 1\n",
    "    num >>= 1\n",
    "    print(num,bin(num))\n",
    "print(counts)"
   ]
  },
  {
   "cell_type": "code",
   "execution_count": 18,
   "metadata": {},
   "outputs": [
    {
     "data": {
      "text/plain": [
       "2.5"
      ]
     },
     "execution_count": 18,
     "metadata": {},
     "output_type": "execute_result"
    }
   ],
   "source": [
    "15/6"
   ]
  },
  {
   "cell_type": "code",
   "execution_count": 19,
   "metadata": {},
   "outputs": [
    {
     "data": {
      "text/plain": [
       "2"
      ]
     },
     "execution_count": 19,
     "metadata": {},
     "output_type": "execute_result"
    }
   ],
   "source": [
    "int(2.5)"
   ]
  },
  {
   "cell_type": "code",
   "execution_count": 20,
   "metadata": {},
   "outputs": [
    {
     "ename": "TypeError",
     "evalue": "'str' object does not support item assignment",
     "output_type": "error",
     "traceback": [
      "\u001b[1;31m---------------------------------------------------------------------------\u001b[0m",
      "\u001b[1;31mTypeError\u001b[0m                                 Traceback (most recent call last)",
      "\u001b[1;32m<ipython-input-20-fcec727f0c52>\u001b[0m in \u001b[0;36m<module>\u001b[1;34m\u001b[0m\n\u001b[0;32m      1\u001b[0m \u001b[0ma\u001b[0m \u001b[1;33m=\u001b[0m \u001b[1;34m'sdadf'\u001b[0m\u001b[1;33m\u001b[0m\u001b[1;33m\u001b[0m\u001b[0m\n\u001b[1;32m----> 2\u001b[1;33m \u001b[0ma\u001b[0m\u001b[1;33m[\u001b[0m\u001b[1;36m0\u001b[0m\u001b[1;33m]\u001b[0m\u001b[1;33m,\u001b[0m\u001b[0ma\u001b[0m\u001b[1;33m[\u001b[0m\u001b[1;36m2\u001b[0m\u001b[1;33m]\u001b[0m \u001b[1;33m=\u001b[0m \u001b[0ma\u001b[0m\u001b[1;33m[\u001b[0m\u001b[1;36m2\u001b[0m\u001b[1;33m]\u001b[0m\u001b[1;33m,\u001b[0m\u001b[0ma\u001b[0m\u001b[1;33m[\u001b[0m\u001b[1;36m0\u001b[0m\u001b[1;33m]\u001b[0m\u001b[1;33m\u001b[0m\u001b[1;33m\u001b[0m\u001b[0m\n\u001b[0m\u001b[0;32m      3\u001b[0m \u001b[0ma\u001b[0m\u001b[1;33m\u001b[0m\u001b[1;33m\u001b[0m\u001b[0m\n",
      "\u001b[1;31mTypeError\u001b[0m: 'str' object does not support item assignment"
     ]
    }
   ],
   "source": [
    "a = 'sdadf'\n",
    "a[0],a[2] = a[2],a[0]\n",
    "a"
   ]
  },
  {
   "cell_type": "code",
   "execution_count": 21,
   "metadata": {},
   "outputs": [
    {
     "name": "stdout",
     "output_type": "stream",
     "text": [
      "true\n"
     ]
    }
   ],
   "source": [
    "def get_res2(lexicon, data):\n",
    "    # 动态规划\n",
    "    # dp[:i]表示前i字可以被分词成功\n",
    "    n = len(data)\n",
    "    dp = [False for _ in range( n +1)]\n",
    "    dp[0] = True\n",
    "    lexicon = set(lexicon)\n",
    "    for i in range(1, n+ 1):\n",
    "        if data[i - 1] in lexicon:\n",
    "            dp[i] = True\n",
    "        else:\n",
    "            for j in range(i - 1, -1, -1):\n",
    "                if dp[j]:\n",
    "                    if data[j:i] in lexicon:\n",
    "                        dp[i] = True\n",
    "\n",
    "    if dp[n]:\n",
    "        return \"true\"\n",
    "    else:\n",
    "        return \"false\"\n",
    "\n",
    "\n",
    "lexicon = [\"my\", \"name\", \"is\", \"red\"]\n",
    "data = \"ismynamered\"\n",
    "res = get_res2(lexicon, data)\n",
    "print(res)"
   ]
  },
  {
   "cell_type": "code",
   "execution_count": 5,
   "metadata": {},
   "outputs": [
    {
     "data": {
      "text/plain": [
       "True"
      ]
     },
     "execution_count": 5,
     "metadata": {},
     "output_type": "execute_result"
    }
   ],
   "source": [
    "a+b > b+a"
   ]
  },
  {
   "cell_type": "code",
   "execution_count": 22,
   "metadata": {},
   "outputs": [
    {
     "data": {
      "text/plain": [
       "''"
      ]
     },
     "execution_count": 22,
     "metadata": {},
     "output_type": "execute_result"
    }
   ],
   "source": [
    "''.strip()"
   ]
  },
  {
   "cell_type": "code",
   "execution_count": 23,
   "metadata": {},
   "outputs": [
    {
     "data": {
      "text/plain": [
       "False"
      ]
     },
     "execution_count": 23,
     "metadata": {},
     "output_type": "execute_result"
    }
   ],
   "source": [
    "' '.isalpha()"
   ]
  },
  {
   "cell_type": "code",
   "execution_count": 2,
   "metadata": {},
   "outputs": [
    {
     "data": {
      "text/plain": [
       "[30, 3, 34]"
      ]
     },
     "execution_count": 2,
     "metadata": {},
     "output_type": "execute_result"
    }
   ],
   "source": [
    "a.sort(key=lambda x:int(str(x)[1]) if len(str(x)) > 1 else int(str(x)[0]))\n",
    "a"
   ]
  }
 ],
 "metadata": {
  "kernelspec": {
   "display_name": "Python 3",
   "language": "python",
   "name": "python3"
  },
  "language_info": {
   "codemirror_mode": {
    "name": "ipython",
    "version": 3
   },
   "file_extension": ".py",
   "mimetype": "text/x-python",
   "name": "python",
   "nbconvert_exporter": "python",
   "pygments_lexer": "ipython3",
   "version": "3.7.6"
  }
 },
 "nbformat": 4,
 "nbformat_minor": 4
}
